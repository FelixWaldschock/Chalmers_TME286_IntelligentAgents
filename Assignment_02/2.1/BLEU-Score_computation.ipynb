{
 "cells": [
  {
   "cell_type": "code",
   "execution_count": 5,
   "metadata": {},
   "outputs": [
    {
     "name": "stdout",
     "output_type": "stream",
     "text": [
      "10\n",
      "['it s a shitty .', 'they re doctors ?', 'we ll get it .', 'yes .', 'i don t know .', 'what ?', 'i don t know .', 'i don t know .', 'i don t know .', 'yes .']\n"
     ]
    }
   ],
   "source": [
    "import csv\n",
    "filename = \"/Users/felixwaldschock/Documents/gits/Chalmers_TME286_IntelligentAgents/Assignment_02/2.1/BLEUScore_Computation.csv\"\n",
    "\n",
    "SpeakerB = []\n",
    "ResponseChatbot = []\n",
    "BLEU_Scores = []\n",
    "\n",
    "# read csv file\n",
    "with open(filename, 'r') as file:\n",
    "    csv_reader = csv.reader(file)\n",
    "    next(csv_reader)  # skip the header\n",
    "    for row in csv_reader:\n",
    "        SpeakerB.append(row[0])\n",
    "        ResponseChatbot.append(row[1])\n",
    "\n"
   ]
  }
 ],
 "metadata": {
  "kernelspec": {
   "display_name": "Python 3",
   "language": "python",
   "name": "python3"
  },
  "language_info": {
   "codemirror_mode": {
    "name": "ipython",
    "version": 3
   },
   "file_extension": ".py",
   "mimetype": "text/x-python",
   "name": "python",
   "nbconvert_exporter": "python",
   "pygments_lexer": "ipython3",
   "version": "3.11.7"
  }
 },
 "nbformat": 4,
 "nbformat_minor": 2
}
