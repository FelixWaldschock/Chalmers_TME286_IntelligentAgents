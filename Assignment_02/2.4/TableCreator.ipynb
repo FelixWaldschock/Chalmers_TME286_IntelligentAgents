{
 "cells": [
  {
   "cell_type": "markdown",
   "metadata": {},
   "source": [
    "create a neatly formatted latex table from a txt file\n"
   ]
  },
  {
   "cell_type": "code",
   "execution_count": 12,
   "metadata": {},
   "outputs": [
    {
     "name": "stdout",
     "output_type": "stream",
     "text": [
      "Done\n",
      "Done writing to file\n"
     ]
    }
   ],
   "source": [
    "import pandas as pd\n",
    "\n",
    "filename = \"/Users/felixwaldschock/Documents/gits/Chalmers_TME286_IntelligentAgents/Assignment_02/2.4/ExportOfDialgues.txt\" # first column ORIGINAL, second column PARAPHRASE, third column SEMANTICS\n",
    "\n",
    "# pandas read tab separated file\n",
    "df = pd.read_table(filename, header=1)\n",
    "\n",
    "latexString = \"\"\n",
    "\n",
    "# loop over each line in the file\n",
    "for i in range(len(df)):\n",
    "    # get the original, paraphrase and semantics\n",
    "    original = df.iloc[i, 0]\n",
    "    paraphrase = df.iloc[i, 1]\n",
    "    semantics = int(bool(df.iloc[i, 2]))\n",
    "    \n",
    "    tmp = original\n",
    "\n",
    "    if (semantics == 1):\n",
    "        color = \"ForrestGreen\"\n",
    "    else:\n",
    "        color = \"red\"\n",
    "    \n",
    "    # add the original and paraphrase to the latex string\n",
    "    tmp = original + \"&\\\\textcolor{\" + color + \"}{\" + paraphrase + \"}\\\\\\\\\" + \"\\n\"\n",
    "    latexString += tmp\n",
    "\n",
    "print(\"Done\")\n",
    "\n",
    "\n",
    "# write the latex string to a file\n",
    "with open(\"latexString.txt\", \"w\") as text_file:\n",
    "    text_file.write(latexString)\n",
    "    text_file.close()\n",
    "print(\"Done writing to file\")\n"
   ]
  }
 ],
 "metadata": {
  "kernelspec": {
   "display_name": "Python 3",
   "language": "python",
   "name": "python3"
  },
  "language_info": {
   "codemirror_mode": {
    "name": "ipython",
    "version": 3
   },
   "file_extension": ".py",
   "mimetype": "text/x-python",
   "name": "python",
   "nbconvert_exporter": "python",
   "pygments_lexer": "ipython3",
   "version": "3.11.7"
  }
 },
 "nbformat": 4,
 "nbformat_minor": 2
}
