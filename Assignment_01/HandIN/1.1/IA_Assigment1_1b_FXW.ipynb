{
  "nbformat": 4,
  "nbformat_minor": 0,
  "metadata": {
    "colab": {
      "provenance": []
    },
    "kernelspec": {
      "name": "python3",
      "display_name": "Python 3"
    },
    "language_info": {
      "name": "python"
    }
  },
  "cells": [
    {
      "cell_type": "code",
      "source": [
        "import numpy as np\n",
        "import matplotlib.pyplot as plt"
      ],
      "metadata": {
        "id": "Z17OskFbpC_N"
      },
      "execution_count": null,
      "outputs": []
    },
    {
      "cell_type": "code",
      "execution_count": null,
      "metadata": {
        "colab": {
          "base_uri": "https://localhost:8080/"
        },
        "id": "b0hD8_WBmeaP",
        "outputId": "b867d966-0401-4cc8-f5dd-d6bdcc7e52a9"
      },
      "outputs": [
        {
          "output_type": "stream",
          "name": "stderr",
          "text": [
            "[nltk_data] Downloading package averaged_perceptron_tagger to\n",
            "[nltk_data]     /root/nltk_data...\n",
            "[nltk_data]   Unzipping taggers/averaged_perceptron_tagger.zip.\n"
          ]
        },
        {
          "output_type": "execute_result",
          "data": {
            "text/plain": [
              "True"
            ]
          },
          "metadata": {},
          "execution_count": 2
        }
      ],
      "source": [
        "import nltk\n",
        "nltk.download('averaged_perceptron_tagger')"
      ]
    },
    {
      "cell_type": "code",
      "source": [
        "from nltk.tag.perceptron import PerceptronTagger\n",
        "tagger = PerceptronTagger()"
      ],
      "metadata": {
        "id": "BEn_WFLqmqKd"
      },
      "execution_count": null,
      "outputs": []
    },
    {
      "cell_type": "markdown",
      "source": [
        "Example on how to classify a sentece. Here the split() function splits by ' ' character."
      ],
      "metadata": {
        "id": "ACg5ltumnOiZ"
      }
    },
    {
      "cell_type": "markdown",
      "source": [
        "Create a token class"
      ],
      "metadata": {
        "id": "m6RC45FmrPnB"
      }
    },
    {
      "cell_type": "code",
      "source": [
        "class Token:\n",
        "  spelling = None\n",
        "  POSTag = None\n",
        "\n",
        "  def __init__ (self, spelling, tag):\n",
        "    self.spelling = spelling.lower().strip()\n",
        "    self.POSTag = tag.strip()\n"
      ],
      "metadata": {
        "id": "bcZxELZPrRh_"
      },
      "execution_count": null,
      "outputs": []
    },
    {
      "cell_type": "code",
      "source": [
        "class Sentence:\n",
        "  sentence = None\n",
        "\n",
        "  def __init__ (self, ListOfTokens):\n",
        "    self.sentence = ListOfTokens\n",
        "\n",
        "  def ToString(self):\n",
        "    sentenceString = \"\"\n",
        "    for token in self.sentence:\n",
        "      sentenceString += str(token.spelling) + \" \"\n",
        "    return sentenceString\n"
      ],
      "metadata": {
        "id": "FYVoNOu9rrjP"
      },
      "execution_count": null,
      "outputs": []
    },
    {
      "cell_type": "code",
      "source": [
        "class DataSet:\n",
        "  dataSet = None\n",
        "\n",
        "  def __init__ (self, ListOfSentences):\n",
        "    self.dataSet = ListOfSentences\n",
        "\n",
        "  def split(self, fraction):\n",
        "    dataSetSize = len(self.dataSet)\n",
        "    indexOfSplit = int(fraction * dataSetSize)\n",
        "\n",
        "    trainingDataSet = DataSet(self.dataSet[:indexOfSplit])\n",
        "    testingDataSet = DataSet(self.dataSet[indexOfSplit:])\n",
        "\n",
        "    return trainingDataSet, testingDataSet\n"
      ],
      "metadata": {
        "id": "OHpFeJfFsQCi"
      },
      "execution_count": null,
      "outputs": []
    },
    {
      "cell_type": "markdown",
      "source": [
        "2.)\n",
        "- Upload the files\n",
        "- Re-format the sentences\n",
        "- All words to lower case\n",
        "\n"
      ],
      "metadata": {
        "id": "z8sCpHJrnXZj"
      }
    },
    {
      "cell_type": "code",
      "source": [
        "from google.colab import files\n",
        "uploaded = files.upload()"
      ],
      "metadata": {
        "colab": {
          "base_uri": "https://localhost:8080/",
          "height": 107
        },
        "id": "CXdweNN-nzj4",
        "outputId": "556709b1-ef3f-4b7b-994a-277409e9b866"
      },
      "execution_count": null,
      "outputs": [
        {
          "output_type": "display_data",
          "data": {
            "text/plain": [
              "<IPython.core.display.HTML object>"
            ],
            "text/html": [
              "\n",
              "     <input type=\"file\" id=\"files-35ad26d4-4e26-41b9-adcb-6222560c4c98\" name=\"files[]\" multiple disabled\n",
              "        style=\"border:none\" />\n",
              "     <output id=\"result-35ad26d4-4e26-41b9-adcb-6222560c4c98\">\n",
              "      Upload widget is only available when the cell has been executed in the\n",
              "      current browser session. Please rerun this cell to enable.\n",
              "      </output>\n",
              "      <script>// Copyright 2017 Google LLC\n",
              "//\n",
              "// Licensed under the Apache License, Version 2.0 (the \"License\");\n",
              "// you may not use this file except in compliance with the License.\n",
              "// You may obtain a copy of the License at\n",
              "//\n",
              "//      http://www.apache.org/licenses/LICENSE-2.0\n",
              "//\n",
              "// Unless required by applicable law or agreed to in writing, software\n",
              "// distributed under the License is distributed on an \"AS IS\" BASIS,\n",
              "// WITHOUT WARRANTIES OR CONDITIONS OF ANY KIND, either express or implied.\n",
              "// See the License for the specific language governing permissions and\n",
              "// limitations under the License.\n",
              "\n",
              "/**\n",
              " * @fileoverview Helpers for google.colab Python module.\n",
              " */\n",
              "(function(scope) {\n",
              "function span(text, styleAttributes = {}) {\n",
              "  const element = document.createElement('span');\n",
              "  element.textContent = text;\n",
              "  for (const key of Object.keys(styleAttributes)) {\n",
              "    element.style[key] = styleAttributes[key];\n",
              "  }\n",
              "  return element;\n",
              "}\n",
              "\n",
              "// Max number of bytes which will be uploaded at a time.\n",
              "const MAX_PAYLOAD_SIZE = 100 * 1024;\n",
              "\n",
              "function _uploadFiles(inputId, outputId) {\n",
              "  const steps = uploadFilesStep(inputId, outputId);\n",
              "  const outputElement = document.getElementById(outputId);\n",
              "  // Cache steps on the outputElement to make it available for the next call\n",
              "  // to uploadFilesContinue from Python.\n",
              "  outputElement.steps = steps;\n",
              "\n",
              "  return _uploadFilesContinue(outputId);\n",
              "}\n",
              "\n",
              "// This is roughly an async generator (not supported in the browser yet),\n",
              "// where there are multiple asynchronous steps and the Python side is going\n",
              "// to poll for completion of each step.\n",
              "// This uses a Promise to block the python side on completion of each step,\n",
              "// then passes the result of the previous step as the input to the next step.\n",
              "function _uploadFilesContinue(outputId) {\n",
              "  const outputElement = document.getElementById(outputId);\n",
              "  const steps = outputElement.steps;\n",
              "\n",
              "  const next = steps.next(outputElement.lastPromiseValue);\n",
              "  return Promise.resolve(next.value.promise).then((value) => {\n",
              "    // Cache the last promise value to make it available to the next\n",
              "    // step of the generator.\n",
              "    outputElement.lastPromiseValue = value;\n",
              "    return next.value.response;\n",
              "  });\n",
              "}\n",
              "\n",
              "/**\n",
              " * Generator function which is called between each async step of the upload\n",
              " * process.\n",
              " * @param {string} inputId Element ID of the input file picker element.\n",
              " * @param {string} outputId Element ID of the output display.\n",
              " * @return {!Iterable<!Object>} Iterable of next steps.\n",
              " */\n",
              "function* uploadFilesStep(inputId, outputId) {\n",
              "  const inputElement = document.getElementById(inputId);\n",
              "  inputElement.disabled = false;\n",
              "\n",
              "  const outputElement = document.getElementById(outputId);\n",
              "  outputElement.innerHTML = '';\n",
              "\n",
              "  const pickedPromise = new Promise((resolve) => {\n",
              "    inputElement.addEventListener('change', (e) => {\n",
              "      resolve(e.target.files);\n",
              "    });\n",
              "  });\n",
              "\n",
              "  const cancel = document.createElement('button');\n",
              "  inputElement.parentElement.appendChild(cancel);\n",
              "  cancel.textContent = 'Cancel upload';\n",
              "  const cancelPromise = new Promise((resolve) => {\n",
              "    cancel.onclick = () => {\n",
              "      resolve(null);\n",
              "    };\n",
              "  });\n",
              "\n",
              "  // Wait for the user to pick the files.\n",
              "  const files = yield {\n",
              "    promise: Promise.race([pickedPromise, cancelPromise]),\n",
              "    response: {\n",
              "      action: 'starting',\n",
              "    }\n",
              "  };\n",
              "\n",
              "  cancel.remove();\n",
              "\n",
              "  // Disable the input element since further picks are not allowed.\n",
              "  inputElement.disabled = true;\n",
              "\n",
              "  if (!files) {\n",
              "    return {\n",
              "      response: {\n",
              "        action: 'complete',\n",
              "      }\n",
              "    };\n",
              "  }\n",
              "\n",
              "  for (const file of files) {\n",
              "    const li = document.createElement('li');\n",
              "    li.append(span(file.name, {fontWeight: 'bold'}));\n",
              "    li.append(span(\n",
              "        `(${file.type || 'n/a'}) - ${file.size} bytes, ` +\n",
              "        `last modified: ${\n",
              "            file.lastModifiedDate ? file.lastModifiedDate.toLocaleDateString() :\n",
              "                                    'n/a'} - `));\n",
              "    const percent = span('0% done');\n",
              "    li.appendChild(percent);\n",
              "\n",
              "    outputElement.appendChild(li);\n",
              "\n",
              "    const fileDataPromise = new Promise((resolve) => {\n",
              "      const reader = new FileReader();\n",
              "      reader.onload = (e) => {\n",
              "        resolve(e.target.result);\n",
              "      };\n",
              "      reader.readAsArrayBuffer(file);\n",
              "    });\n",
              "    // Wait for the data to be ready.\n",
              "    let fileData = yield {\n",
              "      promise: fileDataPromise,\n",
              "      response: {\n",
              "        action: 'continue',\n",
              "      }\n",
              "    };\n",
              "\n",
              "    // Use a chunked sending to avoid message size limits. See b/62115660.\n",
              "    let position = 0;\n",
              "    do {\n",
              "      const length = Math.min(fileData.byteLength - position, MAX_PAYLOAD_SIZE);\n",
              "      const chunk = new Uint8Array(fileData, position, length);\n",
              "      position += length;\n",
              "\n",
              "      const base64 = btoa(String.fromCharCode.apply(null, chunk));\n",
              "      yield {\n",
              "        response: {\n",
              "          action: 'append',\n",
              "          file: file.name,\n",
              "          data: base64,\n",
              "        },\n",
              "      };\n",
              "\n",
              "      let percentDone = fileData.byteLength === 0 ?\n",
              "          100 :\n",
              "          Math.round((position / fileData.byteLength) * 100);\n",
              "      percent.textContent = `${percentDone}% done`;\n",
              "\n",
              "    } while (position < fileData.byteLength);\n",
              "  }\n",
              "\n",
              "  // All done.\n",
              "  yield {\n",
              "    response: {\n",
              "      action: 'complete',\n",
              "    }\n",
              "  };\n",
              "}\n",
              "\n",
              "scope.google = scope.google || {};\n",
              "scope.google.colab = scope.google.colab || {};\n",
              "scope.google.colab._files = {\n",
              "  _uploadFiles,\n",
              "  _uploadFilesContinue,\n",
              "};\n",
              "})(self);\n",
              "</script> "
            ]
          },
          "metadata": {}
        },
        {
          "output_type": "stream",
          "name": "stdout",
          "text": [
            "Saving BrownCorpus.txt to BrownCorpus.txt\n",
            "Saving BrownToUniversalTagMap.txt to BrownToUniversalTagMap.txt\n"
          ]
        }
      ]
    },
    {
      "cell_type": "code",
      "source": [
        "completeDataSetData = None\n",
        "\n",
        "with open(\"BrownCorpus.txt\") as file:\n",
        "  completeDataSetData = file.readlines()\n",
        "completeDataSetData = np.array(completeDataSetData)\n",
        "\n",
        "print(\"File completly read. \" + str(completeDataSetData.size) + \" senteces loaded.\")\n",
        "\n",
        "print(\"Convert the sentences to tokens, senteces and a dataSet\")\n",
        "\n",
        "tokenList = []\n",
        "sentenceList = []\n",
        "\n",
        "# loop over each element in the completeDataSet\n",
        "for sentenceData in completeDataSetData:\n",
        "  # split the sentece in tokens, use space as delimiter\n",
        "  splitSentence = sentenceData.split()\n",
        "  sentenceToken = []\n",
        "  for subToken in splitSentence:\n",
        "    splitToken = subToken.split(\"_\")\n",
        "    spelling = splitToken[0]\n",
        "    if ('|' not in spelling or len(splitToken[1]) == 1):\n",
        "      token = Token(splitToken[0], splitToken[1])\n",
        "      tokenList.append(token)\n",
        "      sentenceToken.append(token)\n",
        "  sentence = Sentence(sentenceToken)\n",
        "  sentenceList.append(sentence)\n",
        "\n",
        "# initiate the DataSet\n",
        "completeDataSet = DataSet(sentenceList)\n",
        "\n",
        "# Convert all tags from Brown to Universal\n",
        "BrownToUniversalTagData = []\n",
        "\n",
        "with open(\"BrownToUniversalTagMap.txt\") as file:\n",
        "  for line in file:\n",
        "    # replace \\t\\t with \\t\n",
        "    processedLine = line.replace(\"\\t\\t\", \"\\t\")\n",
        "    processedLine = processedLine.split('\\t')\n",
        "    BrownTag = processedLine[0]\n",
        "    UniversalTag = processedLine[1].strip()\n",
        "    BrownToUniversalTagData.append([BrownTag, UniversalTag])\n",
        "\n",
        "\n",
        "# convert to Numpy Array\n",
        "BrownToUniversalTagData = np.array(BrownToUniversalTagData)\n",
        "\n",
        "# Convert the BrownTags of the Tokens into Universal Tags\n",
        "for token in tokenList:\n",
        "  tokenBrownTag = token.POSTag\n",
        "  if tokenBrownTag == \"\":\n",
        "    print(token.Spelling)\n",
        "  tokenBrownTagIndex = np.where(BrownToUniversalTagData[:, 0] == tokenBrownTag)\n",
        "\n",
        "  tokenUniversalTag = BrownToUniversalTagData[tokenBrownTagIndex, 1][0][0]\n",
        "  # get the index of\n",
        "  #try:\n",
        "  #except:\n",
        "  ##  tokenUniversalTag = BrownToUniversalTagData[tokenBrownTagIndex, 1][0][0]\n",
        "    #print(token.spelling)\n",
        "    #print(token.POSTag)\n",
        "  token.POSTag = tokenUniversalTag\n",
        "\n",
        "print(\"Conversion of Brown to Universal tag for all tokens done!\")"
      ],
      "metadata": {
        "colab": {
          "base_uri": "https://localhost:8080/",
          "height": 245
        },
        "id": "HV4nbuRjomIf",
        "outputId": "471ced51-315e-4a6a-9612-040698b622ff"
      },
      "execution_count": null,
      "outputs": [
        {
          "output_type": "stream",
          "name": "stdout",
          "text": [
            "File completly read. 57066 senteces loaded.\n",
            "Convert the sentences to tokens, senteces and a dataSet\n"
          ]
        },
        {
          "output_type": "error",
          "ename": "IndexError",
          "evalue": "index 0 is out of bounds for axis 0 with size 0",
          "traceback": [
            "\u001b[0;31m---------------------------------------------------------------------------\u001b[0m",
            "\u001b[0;31mIndexError\u001b[0m                                Traceback (most recent call last)",
            "\u001b[0;32m<ipython-input-28-89f387903c66>\u001b[0m in \u001b[0;36m<cell line: 49>\u001b[0;34m()\u001b[0m\n\u001b[1;32m     53\u001b[0m   \u001b[0mtokenBrownTagIndex\u001b[0m \u001b[0;34m=\u001b[0m \u001b[0mnp\u001b[0m\u001b[0;34m.\u001b[0m\u001b[0mwhere\u001b[0m\u001b[0;34m(\u001b[0m\u001b[0mBrownToUniversalTagData\u001b[0m\u001b[0;34m[\u001b[0m\u001b[0;34m:\u001b[0m\u001b[0;34m,\u001b[0m \u001b[0;36m0\u001b[0m\u001b[0;34m]\u001b[0m \u001b[0;34m==\u001b[0m \u001b[0mtokenBrownTag\u001b[0m\u001b[0;34m)\u001b[0m\u001b[0;34m\u001b[0m\u001b[0;34m\u001b[0m\u001b[0m\n\u001b[1;32m     54\u001b[0m \u001b[0;34m\u001b[0m\u001b[0m\n\u001b[0;32m---> 55\u001b[0;31m   \u001b[0mtokenUniversalTag\u001b[0m \u001b[0;34m=\u001b[0m \u001b[0mBrownToUniversalTagData\u001b[0m\u001b[0;34m[\u001b[0m\u001b[0mtokenBrownTagIndex\u001b[0m\u001b[0;34m,\u001b[0m \u001b[0;36m1\u001b[0m\u001b[0;34m]\u001b[0m\u001b[0;34m[\u001b[0m\u001b[0;36m0\u001b[0m\u001b[0;34m]\u001b[0m\u001b[0;34m[\u001b[0m\u001b[0;36m0\u001b[0m\u001b[0;34m]\u001b[0m\u001b[0;34m\u001b[0m\u001b[0;34m\u001b[0m\u001b[0m\n\u001b[0m\u001b[1;32m     56\u001b[0m   \u001b[0;31m# get the index of\u001b[0m\u001b[0;34m\u001b[0m\u001b[0;34m\u001b[0m\u001b[0m\n\u001b[1;32m     57\u001b[0m   \u001b[0;31m#try:\u001b[0m\u001b[0;34m\u001b[0m\u001b[0;34m\u001b[0m\u001b[0m\n",
            "\u001b[0;31mIndexError\u001b[0m: index 0 is out of bounds for axis 0 with size 0"
          ]
        }
      ]
    },
    {
      "cell_type": "code",
      "source": [
        "import random\n",
        "randS = random.randint(0, len(sentenceList))\n",
        "sentence = sentenceList[randS]\n",
        "randT = random.randint(0, len(sentence.sentence))\n",
        "\n",
        "print(sentence.ToString())\n",
        "print(\"Spelling:\"+ '\\t' + sentence.sentence[randT].spelling)\n",
        "print(\"Tag:\" + '\\t'+ sentence.sentence[randT].POSTag)\n"
      ],
      "metadata": {
        "id": "w8XjXkhd22U5",
        "colab": {
          "base_uri": "https://localhost:8080/"
        },
        "outputId": "bd71ca7a-9f17-4c9e-a861-aad7b8de6cf0"
      },
      "execution_count": null,
      "outputs": [
        {
          "output_type": "stream",
          "name": "stdout",
          "text": [
            "a site may also be attractive just through the beauty of its trees and shrubs . \n",
            "Spelling:\tits\n",
            "Tag:\tDET\n"
          ]
        }
      ]
    },
    {
      "cell_type": "markdown",
      "source": [
        "3.)\n",
        "- Split the data into a training and test set -> Exacetly like in part a) to make comparison"
      ],
      "metadata": {
        "id": "zxN6-V00nz-r"
      }
    },
    {
      "cell_type": "code",
      "source": [
        "## Split the data set by a fraction\n",
        "fraction = 0.8\n",
        "trainingDataSet, testingDataSet = completeDataSet.split(fraction)\n",
        "\n",
        "print(len(completeDataSet.dataSet))\n",
        "print(len(trainingDataSet.dataSet))\n",
        "print(len(testingDataSet.dataSet))\n"
      ],
      "metadata": {
        "id": "LdwZ7Shbplm3",
        "colab": {
          "base_uri": "https://localhost:8080/"
        },
        "outputId": "80ea836a-6705-484b-9b48-2cb92b35fef0"
      },
      "execution_count": null,
      "outputs": [
        {
          "output_type": "stream",
          "name": "stdout",
          "text": [
            "57066\n",
            "45652\n",
            "11414\n"
          ]
        }
      ]
    },
    {
      "cell_type": "markdown",
      "source": [
        "4.)\n",
        "- Tokenize the test\n",
        "--> Already done, with the implementation above"
      ],
      "metadata": {
        "id": "ag1tfCoY-IBC"
      }
    },
    {
      "cell_type": "markdown",
      "source": [
        "5.)\n",
        "- Run the perceptron tagger over the test set\n",
        "\n",
        "--> Classify every token in the test set"
      ],
      "metadata": {
        "id": "QtOI6b0FAbk8"
      }
    },
    {
      "cell_type": "code",
      "source": [
        "resultsWithAssignedTags = []\n",
        "from nltk.tag.mapping import map_tag\n",
        "nltk.download('universal_tagset')\n",
        "\n",
        "# loop over each sentence\n",
        "for sentence in testingDataSet.dataSet:\n",
        "  for token in sentence.sentence:\n",
        "    spelling = str(token.spelling)\n",
        "\n",
        "    trueTag = token.POSTag\n",
        "\n",
        "    assignedTag = tagger.tag(spelling.split())[0][1]\n",
        "\n",
        "    mappedTag = map_tag('en-ptb', 'universal', assignedTag)\n",
        "\n",
        "    success = int(mappedTag == trueTag)\n",
        "\n",
        "    results = [spelling, trueTag, mappedTag, success]\n",
        "    resultsWithAssignedTags.append(results)\n",
        "\n",
        "resultsWithAssignedTags = np.array(resultsWithAssignedTags)\n"
      ],
      "metadata": {
        "id": "NBKMla2tAbPH",
        "colab": {
          "base_uri": "https://localhost:8080/"
        },
        "outputId": "75abe848-f621-4639-ad23-44e9a83c4db3"
      },
      "execution_count": null,
      "outputs": [
        {
          "output_type": "stream",
          "name": "stderr",
          "text": [
            "[nltk_data] Downloading package universal_tagset to /root/nltk_data...\n",
            "[nltk_data]   Unzipping taggers/universal_tagset.zip.\n"
          ]
        }
      ]
    },
    {
      "cell_type": "markdown",
      "source": [
        "7.)\n",
        "-> Compute the accuracy of the perceptron tagger."
      ],
      "metadata": {
        "id": "8gvqK1HhXITv"
      }
    },
    {
      "cell_type": "code",
      "source": [
        "# take sum of all values in the 4th column of the resultsWithAssignedTags array\n",
        "successSum = 0\n",
        "numberOfEntries = resultsWithAssignedTags.shape[0]\n",
        "\n",
        "for i in range(numberOfEntries):\n",
        "  successSum += int(resultsWithAssignedTags[i, 3])\n",
        "\n",
        "accuracy = successSum / numberOfEntries\n",
        "print(\"Accuracy of tagger:\\t\\t\", \"{:.3%}\".format(accuracy))\n",
        "print(\"Number of tokens tagged:\\t\", numberOfEntries)\n"
      ],
      "metadata": {
        "id": "oJlFr7q3XH6P",
        "colab": {
          "base_uri": "https://localhost:8080/"
        },
        "outputId": "c24d80ca-1262-4cb7-8d12-44532964b100"
      },
      "execution_count": null,
      "outputs": [
        {
          "output_type": "stream",
          "name": "stdout",
          "text": [
            "Accuracy of tagger:\t\t 82.413%\n",
            "Number of tokens tagged:\t 176041\n"
          ]
        }
      ]
    },
    {
      "cell_type": "code",
      "source": [
        "# Initialize POS tag counters\n",
        "pos_tag_counters = {\n",
        "    '.' : 0,\n",
        "    'ADJ': 0,\n",
        "    'ADP': 0,\n",
        "    'ADV': 0,\n",
        "    'CONJ': 0,\n",
        "    'DET': 0,\n",
        "    'NOUN': 0,\n",
        "    'NUM': 0,\n",
        "    'PRON': 0,\n",
        "    'PRT': 0,\n",
        "    'VERB': 0,\n",
        "    'X': 0,\n",
        "    'BLANKS': 0\n",
        "}\n",
        "\n",
        "for token in tokenList:\n",
        "  tag = token.POSTag\n",
        "  # Increment POS tag counters\n",
        "  if tag in pos_tag_counters:\n",
        "      pos_tag_counters[tag] += 1\n",
        "  else:\n",
        "      pos_tag_counters['BLANKS'] += 1\n",
        "\n",
        "\n",
        "# Sort the pos_tag_counters dictionary by tag\n",
        "sorted_counters = dict(sorted(pos_tag_counters.items(), key=lambda x: x[1], reverse=True))\n",
        "\n",
        "# Generate basic statistics -> Check if same frequencies\n",
        "# Print POS tag counts and the fractions\n",
        "fractionSum = 0\n",
        "print(\"\\nPOS Tag Counts:\")\n",
        "print(\"{:<10} {:<15} {:<15}\".format(\"Tag\", \"Count\", \"Fraction\"))\n",
        "print(\"=\"*40)\n",
        "\n",
        "for tag, count in sorted_counters.items():\n",
        "    fraction = count / len(tokenList)\n",
        "    fractionSum += fraction\n",
        "    print(\"{:<10} {:<15} {:<15.4%}\".format(tag, count, fraction))\n",
        "\n",
        "print(\"=\"*40)\n",
        "print(f\"Total Fraction: {fractionSum:.4%}\")"
      ],
      "metadata": {
        "colab": {
          "base_uri": "https://localhost:8080/"
        },
        "id": "bAUSk7EWGybE",
        "outputId": "ba90bf5f-44fe-44ae-efa7-e830dc491593"
      },
      "execution_count": null,
      "outputs": [
        {
          "output_type": "stream",
          "name": "stdout",
          "text": [
            "\n",
            "POS Tag Counts:\n",
            "Tag        Count           Fraction       \n",
            "========================================\n",
            "NOUN       275723          24.2401%       \n",
            "VERB       182905          16.0800%       \n",
            "ADP        144848          12.7343%       \n",
            "DET        137094          12.0526%       \n",
            ".          123252          10.8357%       \n",
            "ADJ        83766           7.3643%        \n",
            "ADV        56282           4.9480%        \n",
            "PRON       49389           4.3420%        \n",
            "CONJ       38163           3.3551%        \n",
            "PRT        29862           2.6253%        \n",
            "NUM        14952           1.3145%        \n",
            "X          1230            0.1081%        \n",
            "BLANKS     0               0.0000%        \n",
            "========================================\n",
            "Total Fraction: 100.0000%\n"
          ]
        }
      ]
    }
  ]
}